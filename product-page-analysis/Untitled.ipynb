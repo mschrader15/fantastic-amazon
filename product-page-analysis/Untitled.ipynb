{
 "cells": [
  {
   "cell_type": "code",
   "execution_count": 10,
   "id": "c56aa086-75cf-4274-9d79-10db69c4cc63",
   "metadata": {},
   "outputs": [],
   "source": [
    "import os\n",
    "import sys\n",
    "import json"
   ]
  },
  {
   "cell_type": "code",
   "execution_count": 2,
   "id": "dd2a6f56-7e51-49f7-968e-983007293197",
   "metadata": {},
   "outputs": [],
   "source": [
    "cwd = !pwd\n",
    "sys.path.append(os.path.split(cwd[0])[0])"
   ]
  },
  {
   "cell_type": "code",
   "execution_count": 3,
   "id": "20b8db41-9b54-4fed-b9bf-6caeefe22ff4",
   "metadata": {},
   "outputs": [],
   "source": [
    "from fantastic_amazon import amazon_scraper, sheets_connector"
   ]
  },
  {
   "cell_type": "markdown",
   "id": "71e7204d-66b9-4c52-8bee-d368b767ea72",
   "metadata": {},
   "source": [
    "## Connect to Google Sheets "
   ]
  },
  {
   "cell_type": "code",
   "execution_count": 5,
   "id": "9578598e-6e5d-401d-a645-bb079bb9ecfc",
   "metadata": {},
   "outputs": [],
   "source": [
    "SERVICE_FILE = \"/home/max/fantastic-amazon-c1ba8f85a23b.json\"\n",
    "SHEET_KEY = \"1M8FT1qtKr5VgUAk-7IvQdX8Hp2Sn13uZLL3tq2o7YOU\"\n",
    "SHEET_NAME = \"PRICES\""
   ]
  },
  {
   "cell_type": "code",
   "execution_count": 6,
   "id": "a2f0bd9b-0795-468e-9e8c-e8633bc0b1f8",
   "metadata": {},
   "outputs": [],
   "source": [
    "gs = sheets_connector.GoogleSheets(sheet_key=SHEET_KEY, sheet_name=SHEET_NAME, service_file=SERVICE_FILE) "
   ]
  },
  {
   "cell_type": "code",
   "execution_count": 7,
   "id": "694ba8d3-dd1d-4ac0-adb2-61ac8a373eb3",
   "metadata": {},
   "outputs": [],
   "source": [
    "PNs = gs.w.range(\"B3:B30\")\n",
    "url_dict = {} \n",
    "for PN in PNs:\n",
    "    url_row = 'H' + str(PN[0].row) + ':J' + str(PN[0].row) \n",
    "    urls = gs.get_urls(url_row)\n",
    "    url_dict[PN[0].value] = urls"
   ]
  },
  {
   "cell_type": "code",
   "execution_count": 21,
   "id": "2aece9cb-7af6-4cb9-9bb2-576c69e7a940",
   "metadata": {},
   "outputs": [
    {
     "data": {
      "text/plain": [
       "['https://www.amazon.com/StarTech-com-2-Port-USB-C-DisplayPort-MST/dp/B01KIMP28Y/ref=sr_1_5?dchild=1&keywords=USB-C+to+Dual+DisplayPort+Video+Adapter&qid=1621983565&sr=8-5',\n",
       " 'https://www.amazon.com/2-Port-DisplayPort-Adapter-Monitor-Splitter/dp/B07563JV7H/ref=sr_1_8?dchild=1&keywords=USB-C+to+Dual+DisplayPort+Video+Adapter&qid=1621983565&sr=8-8',\n",
       " 'https://www.amazon.com/gofanco-DisplayPort-Displayport-Thunderbolt-Compatible/dp/B07MF4QXFX/ref=sr_1_3?dchild=1&keywords=USB-C+to+Dual+DisplayPort+Video+Adapter&qid=1621983565&sr=8-3']"
      ]
     },
     "execution_count": 21,
     "metadata": {},
     "output_type": "execute_result"
    }
   ],
   "source": [
    "url_dict['C31DUAL4KDP']"
   ]
  },
  {
   "cell_type": "markdown",
   "id": "aa5c8e53-e020-4ba2-8cf5-fd15570d09ad",
   "metadata": {},
   "source": [
    "## Read in the Product Page"
   ]
  },
  {
   "cell_type": "code",
   "execution_count": 18,
   "id": "a73cdb3b-43c3-4b6f-a652-160a7b495ccc",
   "metadata": {},
   "outputs": [],
   "source": [
    "with open(os.path.join('..', 'data', 'product_info.json'), 'r') as f:\n",
    "    prod = json.load(f)"
   ]
  },
  {
   "cell_type": "code",
   "execution_count": 32,
   "id": "34546e9d-3a59-4fac-b527-481ba0bfb699",
   "metadata": {},
   "outputs": [
    {
     "name": "stdout",
     "output_type": "stream",
     "text": [
      "USB C Docking Station Dual Monitor for MacBook Pro, 13-in-2 Triple Display USB-C Hub for MacBook Pro Dock MacBook Air with Two 4K HDMI Ports, VGA, USB C PD3.0, Gigabit Ethernet, 6 USB, 3.5mm Audio\n",
      "VAVA USB C Docking Station 12-in-1 USB-C Dock (Thunderbolt 3) with Dual HDMI 4K 60Hz, RJ45 Ethernet, 4 USB Ports, SD/TF Card Reader, 85W PD Charging, Audio for MacBook/Pro/Air, Type C Windows Laptop\n",
      "StarTech.com USB C Dock - 4K Dual Monitor DisplayPort - Mini Laptop Docking Station - 100W Power Delivery Passthrough - GbE, 2-Port USB-A Hub - USB Type-C Multiport Adapter - 3.3' Cable (DK30C2DAGPD)\n"
     ]
    },
    {
     "data": {
      "text/plain": [
       "[None, None, None]"
      ]
     },
     "execution_count": 32,
     "metadata": {},
     "output_type": "execute_result"
    }
   ],
   "source": [
    "# prod['C31DUAL4KDP']['https://www.amazon.com/StarTech-com-2-Port-USB-C-DisplayPort-MST/dp/B01KIMP28Y/ref=sr_1_5?dchild=1&keywords=USB-C+to+Dual+DisplayPort+Video+Adapter&qid=1621983565&sr=8-5']'https://www.amazon.com/StarTech-com-2-Port-USB-C-DisplayPort-MST/dp/B01KIMP28Y/ref=sr_1_5?dchild=1&keywords=USB-C+to+Dual+DisplayPort+Video+Adapter&qid=1621983565&sr=8-5'\n",
    "PN = 'C31DUALDPDOCKPD'\n",
    "titles = [prod[PN][l]['title'] for l in url_dict[PN]]\n",
    "[print (title) for title in titles]"
   ]
  },
  {
   "cell_type": "code",
   "execution_count": 30,
   "id": "d61b6592-51b3-4d15-a08c-c58f39e2c0e5",
   "metadata": {},
   "outputs": [
    {
     "data": {
      "text/plain": [
       "['https://www.amazon.com/StarTech-com-2-Port-USB-C-DisplayPort-MST/dp/B01KIMP28Y/ref=sr_1_5?dchild=1&keywords=USB-C+to+Dual+DisplayPort+Video+Adapter&qid=1621983565&sr=8-5',\n",
       " 'https://www.amazon.com/2-Port-DisplayPort-Adapter-Monitor-Splitter/dp/B07563JV7H/ref=sr_1_8?dchild=1&keywords=USB-C+to+Dual+DisplayPort+Video+Adapter&qid=1621983565&sr=8-8',\n",
       " 'https://www.amazon.com/gofanco-DisplayPort-Displayport-Thunderbolt-Compatible/dp/B07MF4QXFX/ref=sr_1_3?dchild=1&keywords=USB-C+to+Dual+DisplayPort+Video+Adapter&qid=1621983565&sr=8-3']"
      ]
     },
     "execution_count": 30,
     "metadata": {},
     "output_type": "execute_result"
    }
   ],
   "source": [
    "url_dict[PN]"
   ]
  }
 ],
 "metadata": {
  "kernelspec": {
   "display_name": "fantastic-amazon",
   "language": "python",
   "name": "fantastic-amazon"
  },
  "language_info": {
   "codemirror_mode": {
    "name": "ipython",
    "version": 3
   },
   "file_extension": ".py",
   "mimetype": "text/x-python",
   "name": "python",
   "nbconvert_exporter": "python",
   "pygments_lexer": "ipython3",
   "version": "3.8.5"
  }
 },
 "nbformat": 4,
 "nbformat_minor": 5
}
