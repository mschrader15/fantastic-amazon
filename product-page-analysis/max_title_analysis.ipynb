{
 "cells": [
  {
   "cell_type": "code",
   "execution_count": 1,
   "id": "c56aa086-75cf-4274-9d79-10db69c4cc63",
   "metadata": {},
   "outputs": [],
   "source": [
    "import os\n",
    "import sys\n",
    "import json\n",
    "import pandas as pd\n",
    "from keybert import KeyBERT\n",
    "from bertopic import BERTopic"
   ]
  },
  {
   "cell_type": "code",
   "execution_count": 2,
   "id": "dd2a6f56-7e51-49f7-968e-983007293197",
   "metadata": {},
   "outputs": [],
   "source": [
    "cwd = !pwd\n",
    "sys.path.append(os.path.split(cwd[0])[0])"
   ]
  },
  {
   "cell_type": "code",
   "execution_count": 3,
   "id": "20b8db41-9b54-4fed-b9bf-6caeefe22ff4",
   "metadata": {},
   "outputs": [],
   "source": [
    "from fantastic_amazon import amazon_scraper, sheets_connector"
   ]
  },
  {
   "cell_type": "markdown",
   "id": "71e7204d-66b9-4c52-8bee-d368b767ea72",
   "metadata": {},
   "source": [
    "## Connect to Google Sheets "
   ]
  },
  {
   "cell_type": "code",
   "execution_count": 4,
   "id": "9578598e-6e5d-401d-a645-bb079bb9ecfc",
   "metadata": {},
   "outputs": [],
   "source": [
    "SERVICE_FILE = \"/home/max/fantastic-amazon-c1ba8f85a23b.json\"\n",
    "SHEET_KEY = \"1M8FT1qtKr5VgUAk-7IvQdX8Hp2Sn13uZLL3tq2o7YOU\"\n",
    "SHEET_NAME = \"PRICES\""
   ]
  },
  {
   "cell_type": "code",
   "execution_count": 5,
   "id": "a2f0bd9b-0795-468e-9e8c-e8633bc0b1f8",
   "metadata": {},
   "outputs": [],
   "source": [
    "gs = sheets_connector.GoogleSheets(sheet_key=SHEET_KEY, sheet_name=SHEET_NAME, service_file=SERVICE_FILE) "
   ]
  },
  {
   "cell_type": "code",
   "execution_count": 6,
   "id": "694ba8d3-dd1d-4ac0-adb2-61ac8a373eb3",
   "metadata": {},
   "outputs": [],
   "source": [
    "PNs = gs.w.range(\"B3:B30\")\n",
    "url_dict = {} \n",
    "for PN in PNs:\n",
    "    url_row = 'H' + str(PN[0].row) + ':J' + str(PN[0].row) \n",
    "    urls = gs.get_urls(url_row)\n",
    "    url_dict[PN[0].value] = urls"
   ]
  },
  {
   "cell_type": "code",
   "execution_count": 7,
   "id": "2aece9cb-7af6-4cb9-9bb2-576c69e7a940",
   "metadata": {},
   "outputs": [
    {
     "data": {
      "text/plain": [
       "['https://www.amazon.com/StarTech-com-2-Port-USB-C-DisplayPort-MST/dp/B01KIMP28Y/ref=sr_1_5?dchild=1&keywords=USB-C+to+Dual+DisplayPort+Video+Adapter&qid=1621983565&sr=8-5',\n",
       " 'https://www.amazon.com/2-Port-DisplayPort-Adapter-Monitor-Splitter/dp/B07563JV7H/ref=sr_1_8?dchild=1&keywords=USB-C+to+Dual+DisplayPort+Video+Adapter&qid=1621983565&sr=8-8',\n",
       " 'https://www.amazon.com/gofanco-DisplayPort-Displayport-Thunderbolt-Compatible/dp/B07MF4QXFX/ref=sr_1_3?dchild=1&keywords=USB-C+to+Dual+DisplayPort+Video+Adapter&qid=1621983565&sr=8-3']"
      ]
     },
     "execution_count": 7,
     "metadata": {},
     "output_type": "execute_result"
    }
   ],
   "source": [
    "url_dict['C31DUAL4KDP']"
   ]
  },
  {
   "cell_type": "markdown",
   "id": "aa5c8e53-e020-4ba2-8cf5-fd15570d09ad",
   "metadata": {},
   "source": [
    "## Read in the Product Page"
   ]
  },
  {
   "cell_type": "code",
   "execution_count": 8,
   "id": "a73cdb3b-43c3-4b6f-a652-160a7b495ccc",
   "metadata": {},
   "outputs": [],
   "source": [
    "with open(os.path.join('..', 'data', 'product_info.json'), 'r') as f:\n",
    "    prod = json.load(f)"
   ]
  },
  {
   "cell_type": "code",
   "execution_count": 9,
   "id": "34546e9d-3a59-4fac-b527-481ba0bfb699",
   "metadata": {},
   "outputs": [
    {
     "name": "stdout",
     "output_type": "stream",
     "text": [
      "StarTech.com 2-Port Multi Monitor Adapter - USB-C to 2x DisplayPort 1.2 Video Splitter - USB Type-C to DP MST Hub - Dual 4K 30Hz or 1080p 60Hz - Thunderbolt 3 Compatible - Windows Only (MSTCDP122DP)\n",
      "UPTab USB C to Dual DisplayPort Adapter 8K, UPTab USB-C to DisplayPort Multi Monitor Splitter Converter, (Compatible Thunderbolt 3), for Windows PC MST, macOS Mirror SST only\n",
      "gofanco USB-C to Dual 4K DisplayPort MST Adapter Splitter, 4K @30Hz, USB Type C to Displayport Multi Monitor Converter, Thunderbolt 3 Compatible, for Windows PCs, NOT Mac, (DP Alternate Mode Required)\n"
     ]
    },
    {
     "data": {
      "text/plain": [
       "[None, None, None]"
      ]
     },
     "execution_count": 9,
     "metadata": {},
     "output_type": "execute_result"
    }
   ],
   "source": [
    "# prod['C31DUAL4KDP']['https://www.amazon.com/StarTech-com-2-Port-USB-C-DisplayPort-MST/dp/B01KIMP28Y/ref=sr_1_5?dchild=1&keywords=USB-C+to+Dual+DisplayPort+Video+Adapter&qid=1621983565&sr=8-5']'https://www.amazon.com/StarTech-com-2-Port-USB-C-DisplayPort-MST/dp/B01KIMP28Y/ref=sr_1_5?dchild=1&keywords=USB-C+to+Dual+DisplayPort+Video+Adapter&qid=1621983565&sr=8-5'\n",
    "PN = 'C31DUAL4KDP'\n",
    "titles = [prod[PN][l]['title'] for l in url_dict[PN]]\n",
    "[print (title) for title in titles]"
   ]
  },
  {
   "cell_type": "code",
   "execution_count": 10,
   "id": "d61b6592-51b3-4d15-a08c-c58f39e2c0e5",
   "metadata": {},
   "outputs": [
    {
     "data": {
      "text/plain": [
       "['https://www.amazon.com/StarTech-com-2-Port-USB-C-DisplayPort-MST/dp/B01KIMP28Y/ref=sr_1_5?dchild=1&keywords=USB-C+to+Dual+DisplayPort+Video+Adapter&qid=1621983565&sr=8-5',\n",
       " 'https://www.amazon.com/2-Port-DisplayPort-Adapter-Monitor-Splitter/dp/B07563JV7H/ref=sr_1_8?dchild=1&keywords=USB-C+to+Dual+DisplayPort+Video+Adapter&qid=1621983565&sr=8-8',\n",
       " 'https://www.amazon.com/gofanco-DisplayPort-Displayport-Thunderbolt-Compatible/dp/B07MF4QXFX/ref=sr_1_3?dchild=1&keywords=USB-C+to+Dual+DisplayPort+Video+Adapter&qid=1621983565&sr=8-3']"
      ]
     },
     "execution_count": 10,
     "metadata": {},
     "output_type": "execute_result"
    }
   ],
   "source": [
    "url_dict[PN]"
   ]
  },
  {
   "cell_type": "markdown",
   "id": "bfce80e1-15dc-4db9-8a39-c9efe4646d66",
   "metadata": {},
   "source": [
    "## Pull First Page of Search Terms"
   ]
  },
  {
   "cell_type": "code",
   "execution_count": 11,
   "id": "d475d18a-f1e5-433e-961b-ba49a52bf169",
   "metadata": {},
   "outputs": [],
   "source": [
    "one_search = amazon_scraper.AmazonScrapper().scrape_search(\"amazon.com\", search_terms=\"hdmi usb multi monitor cable\", headless=True)\n",
    "other_search = amazon_scraper.AmazonScrapper().scrape_search(\"amazon.com\", search_terms=\"USBC to 4K DisplayPort\", headless=True)"
   ]
  },
  {
   "cell_type": "code",
   "execution_count": 12,
   "id": "9c0b1b4f-a5bf-499b-b0fd-3005f7febfdb",
   "metadata": {},
   "outputs": [
    {
     "ename": "NameError",
     "evalue": "name 'first_page' is not defined",
     "output_type": "error",
     "traceback": [
      "\u001b[0;31m---------------------------------------------------------------------------\u001b[0m",
      "\u001b[0;31mNameError\u001b[0m                                 Traceback (most recent call last)",
      "\u001b[0;32m<ipython-input-12-6ea6eabb266b>\u001b[0m in \u001b[0;36m<module>\u001b[0;34m\u001b[0m\n\u001b[0;32m----> 1\u001b[0;31m \u001b[0mdf\u001b[0m \u001b[0;34m=\u001b[0m \u001b[0mpd\u001b[0m\u001b[0;34m.\u001b[0m\u001b[0mDataFrame\u001b[0m\u001b[0;34m.\u001b[0m\u001b[0mfrom_records\u001b[0m\u001b[0;34m(\u001b[0m\u001b[0;34m[\u001b[0m\u001b[0mvalue\u001b[0m \u001b[0;32mfor\u001b[0m \u001b[0mkey\u001b[0m\u001b[0;34m,\u001b[0m \u001b[0mvalue\u001b[0m \u001b[0;32min\u001b[0m \u001b[0mone_search\u001b[0m\u001b[0;34m.\u001b[0m\u001b[0mitems\u001b[0m\u001b[0;34m(\u001b[0m\u001b[0;34m)\u001b[0m \u001b[0;32mif\u001b[0m \u001b[0mkey\u001b[0m \u001b[0;34m!=\u001b[0m \u001b[0;34m'suggestions'\u001b[0m \u001b[0;32mif\u001b[0m \u001b[0mvalue\u001b[0m\u001b[0;34m[\u001b[0m\u001b[0;34m'price'\u001b[0m\u001b[0;34m]\u001b[0m \u001b[0;34m>\u001b[0m \u001b[0;36m25\u001b[0m\u001b[0;34m]\u001b[0m\u001b[0;34m,\u001b[0m \u001b[0mcolumns\u001b[0m\u001b[0;34m=\u001b[0m\u001b[0mlist\u001b[0m\u001b[0;34m(\u001b[0m\u001b[0mfirst_page\u001b[0m\u001b[0;34m[\u001b[0m\u001b[0;34m'2'\u001b[0m\u001b[0;34m]\u001b[0m\u001b[0;34m.\u001b[0m\u001b[0mkeys\u001b[0m\u001b[0;34m(\u001b[0m\u001b[0;34m)\u001b[0m\u001b[0;34m)\u001b[0m\u001b[0;34m)\u001b[0m\u001b[0;34m\u001b[0m\u001b[0;34m\u001b[0m\u001b[0m\n\u001b[0m\u001b[1;32m      2\u001b[0m \u001b[0mdf\u001b[0m\u001b[0;34m.\u001b[0m\u001b[0mhead\u001b[0m\u001b[0;34m(\u001b[0m\u001b[0;34m)\u001b[0m\u001b[0;34m\u001b[0m\u001b[0;34m\u001b[0m\u001b[0m\n\u001b[1;32m      3\u001b[0m \u001b[0mo_df\u001b[0m \u001b[0;34m=\u001b[0m \u001b[0mpd\u001b[0m\u001b[0;34m.\u001b[0m\u001b[0mDataFrame\u001b[0m\u001b[0;34m.\u001b[0m\u001b[0mfrom_records\u001b[0m\u001b[0;34m(\u001b[0m\u001b[0;34m[\u001b[0m\u001b[0mvalue\u001b[0m \u001b[0;32mfor\u001b[0m \u001b[0mkey\u001b[0m\u001b[0;34m,\u001b[0m \u001b[0mvalue\u001b[0m \u001b[0;32min\u001b[0m \u001b[0mother_search\u001b[0m\u001b[0;34m.\u001b[0m\u001b[0mitems\u001b[0m\u001b[0;34m(\u001b[0m\u001b[0;34m)\u001b[0m \u001b[0;32mif\u001b[0m \u001b[0mkey\u001b[0m \u001b[0;34m!=\u001b[0m \u001b[0;34m'suggestions'\u001b[0m \u001b[0;32mif\u001b[0m \u001b[0mvalue\u001b[0m\u001b[0;34m[\u001b[0m\u001b[0;34m'price'\u001b[0m\u001b[0;34m]\u001b[0m \u001b[0;34m>\u001b[0m \u001b[0;36m25\u001b[0m\u001b[0;34m]\u001b[0m\u001b[0;34m,\u001b[0m \u001b[0mcolumns\u001b[0m\u001b[0;34m=\u001b[0m\u001b[0mlist\u001b[0m\u001b[0;34m(\u001b[0m\u001b[0mfirst_page\u001b[0m\u001b[0;34m[\u001b[0m\u001b[0;34m'2'\u001b[0m\u001b[0;34m]\u001b[0m\u001b[0;34m.\u001b[0m\u001b[0mkeys\u001b[0m\u001b[0;34m(\u001b[0m\u001b[0;34m)\u001b[0m\u001b[0;34m)\u001b[0m\u001b[0;34m)\u001b[0m\u001b[0;34m\u001b[0m\u001b[0;34m\u001b[0m\u001b[0m\n\u001b[1;32m      4\u001b[0m \u001b[0mo_df\u001b[0m\u001b[0;34m.\u001b[0m\u001b[0mhead\u001b[0m\u001b[0;34m(\u001b[0m\u001b[0;34m)\u001b[0m\u001b[0;34m\u001b[0m\u001b[0;34m\u001b[0m\u001b[0m\n",
      "\u001b[0;31mNameError\u001b[0m: name 'first_page' is not defined"
     ]
    }
   ],
   "source": [
    "df = pd.DataFrame.from_records([value for key, value in one_search.items() if key != 'suggestions' if value['price'] > 25], columns=list(first_page['2'].keys()))\n",
    "df.head()\n",
    "o_df = pd.DataFrame.from_records([value for key, value in other_search.items() if key != 'suggestions' if value['price'] > 25], columns=list(first_page['2'].keys()))\n",
    "o_df.head()"
   ]
  },
  {
   "cell_type": "code",
   "execution_count": null,
   "id": "3294c868-8c24-4ff0-abc0-584b6ba50934",
   "metadata": {},
   "outputs": [],
   "source": [
    "doc = \"\\n\".join(df['title'])\n",
    "kw_model = KeyBERT('distilbert-base-nli-mean-tokens')\n",
    "keywords = kw_model.extract_keywords(doc, keyphrase_ngram_range=(2, 5), stop_words='english')"
   ]
  },
  {
   "cell_type": "code",
   "execution_count": null,
   "id": "3eb99a64-d97c-46a0-9c84-0a6c83457621",
   "metadata": {},
   "outputs": [],
   "source": [
    "keywords"
   ]
  }
 ],
 "metadata": {
  "kernelspec": {
   "display_name": "fantastic-amazon",
   "language": "python",
   "name": "fantastic-amazon"
  },
  "language_info": {
   "codemirror_mode": {
    "name": "ipython",
    "version": 3
   },
   "file_extension": ".py",
   "mimetype": "text/x-python",
   "name": "python",
   "nbconvert_exporter": "python",
   "pygments_lexer": "ipython3",
   "version": "3.8.5"
  }
 },
 "nbformat": 4,
 "nbformat_minor": 5
}
