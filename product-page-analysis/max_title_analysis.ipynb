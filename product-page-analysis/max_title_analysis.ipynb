{
 "cells": [
  {
   "cell_type": "code",
   "execution_count": 1,
   "id": "c56aa086-75cf-4274-9d79-10db69c4cc63",
   "metadata": {},
   "outputs": [],
   "source": [
    "import os\n",
    "import sys\n",
    "import json\n",
    "import pandas as pd\n",
    "import qgrid\n",
    "from keybert import KeyBERT\n",
    "from bertopic import BERTopic"
   ]
  },
  {
   "cell_type": "code",
   "execution_count": 44,
   "id": "dd2a6f56-7e51-49f7-968e-983007293197",
   "metadata": {},
   "outputs": [],
   "source": [
    "cwd = !pwd\n",
    "sys.path.append(os.path.split(cwd[0])[0])"
   ]
  },
  {
   "cell_type": "code",
   "execution_count": 3,
   "id": "20b8db41-9b54-4fed-b9bf-6caeefe22ff4",
   "metadata": {},
   "outputs": [],
   "source": [
    "from fantastic_amazon import amazon_scraper, sheets_connector"
   ]
  },
  {
   "cell_type": "code",
   "execution_count": 270,
   "id": "ecd7b2e5-c1e0-497f-ac89-f6e3168435e0",
   "metadata": {},
   "outputs": [],
   "source": [
    "PN_FOR_ANAYLSIS = 'CATRIPLE4KDOCKPDUS'"
   ]
  },
  {
   "cell_type": "markdown",
   "id": "71e7204d-66b9-4c52-8bee-d368b767ea72",
   "metadata": {},
   "source": [
    "## Connect to Google Sheets "
   ]
  },
  {
   "cell_type": "code",
   "execution_count": 260,
   "id": "9578598e-6e5d-401d-a645-bb079bb9ecfc",
   "metadata": {},
   "outputs": [],
   "source": [
    "SERVICE_FILE = \"/home/max/fantastic-amazon-c1ba8f85a23b.json\"\n",
    "SHEET_KEY = \"1M8FT1qtKr5VgUAk-7IvQdX8Hp2Sn13uZLL3tq2o7YOU\"\n",
    "SHEET_NAME = \"PRICES\""
   ]
  },
  {
   "cell_type": "code",
   "execution_count": 261,
   "id": "a2f0bd9b-0795-468e-9e8c-e8633bc0b1f8",
   "metadata": {},
   "outputs": [],
   "source": [
    "try:\n",
    "    gs\n",
    "except NameError:\n",
    "    gs = sheets_connector.GoogleSheets(sheet_key=SHEET_KEY, sheet_name=SHEET_NAME, service_file=SERVICE_FILE) "
   ]
  },
  {
   "cell_type": "code",
   "execution_count": 262,
   "id": "694ba8d3-dd1d-4ac0-adb2-61ac8a373eb3",
   "metadata": {},
   "outputs": [],
   "source": [
    "PNs = gs.w.range(\"B3:B30\")\n",
    "url_dict = {} \n",
    "for PN in PNs:\n",
    "    url_row = 'H' + str(PN[0].row) + ':J' + str(PN[0].row) \n",
    "    urls = gs.get_urls(url_row)\n",
    "    url_dict[PN[0].value] = urls"
   ]
  },
  {
   "cell_type": "code",
   "execution_count": 263,
   "id": "2aece9cb-7af6-4cb9-9bb2-576c69e7a940",
   "metadata": {},
   "outputs": [
    {
     "data": {
      "text/plain": [
       "['C31DUAL4KDP',\n",
       " 'C31DUAL4KHDMI',\n",
       " 'C31DUALDPDOCKPD',\n",
       " 'C31DUALDPDOCKPD100WUS',\n",
       " 'C31DUALDPDOCKPD65WUS',\n",
       " 'C31FLATDOCKPDPRO',\n",
       " 'C31FLATPRO112WUS',\n",
       " 'C31NANODOCKLANPD',\n",
       " 'C31NANODOCKPD',\n",
       " 'C31NANODOCKPROPD',\n",
       " 'C31NANODOCKVGAPD',\n",
       " 'C31QUATTRODOCKPDUS',\n",
       " 'C31TRIPLEDOCKPDUS',\n",
       " 'CADUA4KDOCKPDLUS',\n",
       " 'CADUAL4KDOCKPDUS',\n",
       " 'CADUAL4KDOCKUS',\n",
       " 'CATRIPLE4KDOCKPDUS',\n",
       " 'TB3CDUALDPDOCKPDUS',\n",
       " 'TB3DUAL4KDP',\n",
       " 'TB3DUAL4KHDMI',\n",
       " 'TB3HDMIDOCKUS',\n",
       " 'TB3TRAVELDOCKPD',\n",
       " 'TB3TRIPLEDOCKPDUS',\n",
       " 'U3DUAL4KDP',\n",
       " 'U3DUAL4KHDMI',\n",
       " 'U3DUALHDMIDOCKUS',\n",
       " 'U3HDMIDVIDOCKUS',\n",
       " 'VESADOCK1']"
      ]
     },
     "execution_count": 263,
     "metadata": {},
     "output_type": "execute_result"
    }
   ],
   "source": [
    "list(url_dict.keys())"
   ]
  },
  {
   "cell_type": "markdown",
   "id": "aa5c8e53-e020-4ba2-8cf5-fd15570d09ad",
   "metadata": {},
   "source": [
    "## Read in the Product Page"
   ]
  },
  {
   "cell_type": "code",
   "execution_count": 271,
   "id": "a73cdb3b-43c3-4b6f-a652-160a7b495ccc",
   "metadata": {},
   "outputs": [],
   "source": [
    "with open(os.path.join('..', 'data', 'product_info.json'), 'r') as f:\n",
    "    prod = json.load(f)"
   ]
  },
  {
   "cell_type": "code",
   "execution_count": 272,
   "id": "34546e9d-3a59-4fac-b527-481ba0bfb699",
   "metadata": {},
   "outputs": [
    {
     "name": "stdout",
     "output_type": "stream",
     "text": [
      "StarTech.com USB-C & USB-A Dock - Hybrid Universal Triple Monitor Laptop Docking Station w/DisplayPort & HDMI 4K 60Hz - 85W Power Delivery, 6X USB Hub, GbE, Audio - USB 3.1 Gen 2 10Gbps (DK31C3HDPD)\n",
      "\n",
      "ICY BOX Type-C or Type-A Docking Station with Triple Video Output for Notebook/Laptop/PC and 60W Power Delivery (3X HDMI, 6X USB Ports, 2X DisplayPorts, Gigabit LAN and Audio)\n",
      "\n"
     ]
    },
    {
     "data": {
      "text/plain": [
       "[None, None]"
      ]
     },
     "execution_count": 272,
     "metadata": {},
     "output_type": "execute_result"
    }
   ],
   "source": [
    "# prod['C31DUAL4KDP']['https://www.amazon.com/StarTech-com-2-Port-USB-C-DisplayPort-MST/dp/B01KIMP28Y/ref=sr_1_5?dchild=1&keywords=USB-C+to+Dual+DisplayPort+Video+Adapter&qid=1621983565&sr=8-5']'https://www.amazon.com/StarTech-com-2-Port-USB-C-DisplayPort-MST/dp/B01KIMP28Y/ref=sr_1_5?dchild=1&keywords=USB-C+to+Dual+DisplayPort+Video+Adapter&qid=1621983565&sr=8-5'\n",
    "titles = [prod[PN_FOR_ANAYLSIS][l]['title'] for l in url_dict[PN_FOR_ANAYLSIS] if l]\n",
    "[print (title + \"\\n\") for title in titles]"
   ]
  },
  {
   "cell_type": "code",
   "execution_count": 273,
   "id": "d61b6592-51b3-4d15-a08c-c58f39e2c0e5",
   "metadata": {},
   "outputs": [
    {
     "data": {
      "text/plain": [
       "['https://www.amazon.com/StarTech-com-USB-C-USB-Dock-DisplayPort/dp/B08J4HD9YM/ref=sr_1_6?dchild=1&keywords=universal+docking+station+2x+hdmi+2x+displayport&qid=1621987828&s=electronics&sr=1-6',\n",
       " 'https://www.amazon.com/Docking-Station-Notebook-Delivery-DisplayPorts/dp/B07VQTHK1M/ref=sr_1_38?dchild=1&keywords=universal+docking+station+2x+hdmi+2x+displayport+power+delivery&qid=1621988191&s=electronics&sr=1-38',\n",
       " '']"
      ]
     },
     "execution_count": 273,
     "metadata": {},
     "output_type": "execute_result"
    }
   ],
   "source": [
    "url_dict[PN_FOR_ANAYLSIS]"
   ]
  },
  {
   "cell_type": "markdown",
   "id": "bfce80e1-15dc-4db9-8a39-c9efe4646d66",
   "metadata": {},
   "source": [
    "## Pull First Page of Search Terms"
   ]
  },
  {
   "cell_type": "code",
   "execution_count": 278,
   "id": "d475d18a-f1e5-433e-961b-ba49a52bf169",
   "metadata": {},
   "outputs": [],
   "source": [
    "one_search = amazon_scraper.AmazonScrapper().scrape_search(\"amazon.com\", search_terms=\"Thunderbolt 3 Dual Docking Station\", headless=True)\n",
    "other_search = amazon_scraper.AmazonScrapper().scrape_search(\"amazon.com\", search_terms=\"Thunderbolt 3 8k hub\", headless=True)"
   ]
  },
  {
   "cell_type": "code",
   "execution_count": 279,
   "id": "7fa505aa-9fe9-48f8-9c5a-11de6dcb2e53",
   "metadata": {},
   "outputs": [
    {
     "data": {
      "text/plain": [
       "['thunderbolt 3 docking station dual monitor',\n",
       " 'in Electronics',\n",
       " 'startech thunderbolt 3 dual-4k docking station',\n",
       " 'monoprice thunderbolt 3 dual displayport docking station']"
      ]
     },
     "execution_count": 279,
     "metadata": {},
     "output_type": "execute_result"
    }
   ],
   "source": [
    "one_search['suggestions']"
   ]
  },
  {
   "cell_type": "code",
   "execution_count": 280,
   "id": "23b13f1b-2557-4cd1-9488-a5566c001cdf",
   "metadata": {},
   "outputs": [
    {
     "data": {
      "text/plain": [
       "['thunderbolt 3 hub 8k']"
      ]
     },
     "execution_count": 280,
     "metadata": {},
     "output_type": "execute_result"
    }
   ],
   "source": [
    "other_search['suggestions']"
   ]
  },
  {
   "cell_type": "code",
   "execution_count": 281,
   "id": "a974d211-e8ec-4a77-8486-45f4ae2273f7",
   "metadata": {},
   "outputs": [],
   "source": [
    "cutoff_price = 100"
   ]
  },
  {
   "cell_type": "code",
   "execution_count": 282,
   "id": "5ac897fb-306e-4031-9475-b1cfb62ee7f0",
   "metadata": {},
   "outputs": [],
   "source": [
    "df = pd.DataFrame.from_records([value for key, value in one_search.items() if key != 'suggestions' if value['price'] > cutoff_price], columns=list(one_search['2'].keys()))\n",
    "o_df = pd.DataFrame.from_records([value for key, value in other_search.items() if key != 'suggestions' if value['price'] > cutoff_price], columns=list(other_search['2'].keys()))"
   ]
  },
  {
   "cell_type": "code",
   "execution_count": 283,
   "id": "c168c1cb-8a39-4011-aab8-0cc71de3b577",
   "metadata": {},
   "outputs": [
    {
     "data": {
      "text/html": [
       "<table border=\"1\" class=\"dataframe\">\n",
       "  <thead>\n",
       "    <tr style=\"text-align: right;\">\n",
       "      <th></th>\n",
       "      <th>asin</th>\n",
       "      <th>ad</th>\n",
       "      <th>amazon_choice</th>\n",
       "      <th>title</th>\n",
       "      <th>price</th>\n",
       "      <th>coupon</th>\n",
       "      <th>review_num</th>\n",
       "    </tr>\n",
       "  </thead>\n",
       "  <tbody>\n",
       "    <tr>\n",
       "      <th>0</th>\n",
       "      <td>B08P5LQ1XQ</td>\n",
       "      <td>True</td>\n",
       "      <td>False</td>\n",
       "      <td>Thunderbolt 3 Docking Station with Built-in TB3 Cable for Mac and Windows. 60W Upstream Power Delivery Charging. Dual 4K Display, 8K Single Display and up to 40Gbps Transfer speeds, Black</td>\n",
       "      <td>153.37</td>\n",
       "      <td>False</td>\n",
       "      <td>1</td>\n",
       "    </tr>\n",
       "    <tr>\n",
       "      <th>1</th>\n",
       "      <td>B08DDH5CPW</td>\n",
       "      <td>True</td>\n",
       "      <td>False</td>\n",
       "      <td>Plugable USB C Triple Display Docking Station with Laptop Charging, Thunderbolt 3 or USB C Dock Compatible with Specific Windows and Mac Systems (3x HDMI, 6x USB Ports, 60W USB PD)</td>\n",
       "      <td>159.00</td>\n",
       "      <td>False</td>\n",
       "      <td>197</td>\n",
       "    </tr>\n",
       "    <tr>\n",
       "      <th>3</th>\n",
       "      <td>B0785DQLZ7</td>\n",
       "      <td>False</td>\n",
       "      <td>False</td>\n",
       "      <td>Kensington SD5200T Thunderbolt 3 Docking Station - 85W PD - Dual Monitor 4k for Mac and PC (K38300NA)</td>\n",
       "      <td>162.18</td>\n",
       "      <td>False</td>\n",
       "      <td>87</td>\n",
       "    </tr>\n",
       "    <tr>\n",
       "      <th>4</th>\n",
       "      <td>B08HR3T837</td>\n",
       "      <td>False</td>\n",
       "      <td>False</td>\n",
       "      <td>Plugable 14-in-1 USB-C and Thunderbolt 3 Dock - Compatible with Mac and Windows, 96W Laptop Charging, 2x HDMI 2.0 and DisplayPort, 7x USB ports, Ethernet, Audio, SD/MicroSD</td>\n",
       "      <td>249.00</td>\n",
       "      <td>False</td>\n",
       "      <td>355</td>\n",
       "    </tr>\n",
       "    <tr>\n",
       "      <th>5</th>\n",
       "      <td>B086H3GQNS</td>\n",
       "      <td>False</td>\n",
       "      <td>False</td>\n",
       "      <td>Amazon Basics 11-in-1 Thunderbolt 3 Docking Station - 2x DisplayPort 1.4, 4xUSB ports, SD, microSD, Ethernet, Audio, 120W power and Thunderbolt 3 Cable for iMac, iPad Pro, PC, Laptops</td>\n",
       "      <td>161.49</td>\n",
       "      <td>False</td>\n",
       "      <td>5</td>\n",
       "    </tr>\n",
       "    <tr>\n",
       "      <th>6</th>\n",
       "      <td>B07XQKYSK3</td>\n",
       "      <td>True</td>\n",
       "      <td>False</td>\n",
       "      <td>SIIG Thunderbolt 3 or USB C Dual 4K Display Docking Station with 60W Laptop Charging - Titan Ridge (1x USB 3.0, 2x USB 3.1, 2x DP 1.2, 2x USB-C, Ethernet) for Windows PC &amp; MacBook Pro JU-DK0C11-S1</td>\n",
       "      <td>233.88</td>\n",
       "      <td>False</td>\n",
       "      <td>2</td>\n",
       "    </tr>\n",
       "    <tr>\n",
       "      <th>7</th>\n",
       "      <td>B08KHP5MV8</td>\n",
       "      <td>False</td>\n",
       "      <td>False</td>\n",
       "      <td>Plugable Thunderbolt 3 and USB C Docking Station with 96W Charging - Compatible with Mac and Windows Laptops, DisplayPort and HDMI, 2X USB-C, 3X USB 3.0, Gigabit Ethernet, Audio Jack - Horizontal</td>\n",
       "      <td>249.00</td>\n",
       "      <td>False</td>\n",
       "      <td>85</td>\n",
       "    </tr>\n",
       "    <tr>\n",
       "      <th>8</th>\n",
       "      <td>B073JDZGKK</td>\n",
       "      <td>False</td>\n",
       "      <td>False</td>\n",
       "      <td>StarTech.com Thunderbolt 3 Dock - Dual Monitor 4K 60Hz Laptop Docking Station with DisplayPort - 85W Power Delivery - 3-Port USB 3.0 Hub, Ethernet, Audio - TB3 Dock - Windows &amp; Mac (TB3DK2DPPD)</td>\n",
       "      <td>252.95</td>\n",
       "      <td>False</td>\n",
       "      <td>93</td>\n",
       "    </tr>\n",
       "    <tr>\n",
       "      <th>9</th>\n",
       "      <td>B08K3XZB43</td>\n",
       "      <td>False</td>\n",
       "      <td>False</td>\n",
       "      <td>Intpw USB C Laptop Docking Station Dual Monitor, Thunderbolt 3 Dock w/ 60W Power Delivery, MacBook Pro Docking Station w/ 2 HDMI, DP, 6 USB Ports, Ethernet, USB-C Gen2, SD/TF Card Reader</td>\n",
       "      <td>149.99</td>\n",
       "      <td>True</td>\n",
       "      <td>102</td>\n",
       "    </tr>\n",
       "    <tr>\n",
       "      <th>10</th>\n",
       "      <td>B07F94KD1L</td>\n",
       "      <td>False</td>\n",
       "      <td>False</td>\n",
       "      <td>StarTech.com Thunderbolt 3 Dock - Dual 4K 60Hz Monitor TB3 Laptop Docking Station with DisplayPort, HDMI &amp; 1080p VGA - 85W Power Delivery &amp; Charging - 2x USB-A, Ethernet - Mac &amp; Windows (TB3DK2DHV)</td>\n",
       "      <td>264.99</td>\n",
       "      <td>False</td>\n",
       "      <td>349</td>\n",
       "    </tr>\n",
       "    <tr>\n",
       "      <th>11</th>\n",
       "      <td>B08JHDV91C</td>\n",
       "      <td>False</td>\n",
       "      <td>False</td>\n",
       "      <td>Corsair TBT100 Thunderbolt 3 Dock – 85W Charging, Dual 4k 60Hz Support, 2X HDMI, 40Gb/s ,USB-C Gen 2 (15W) x2, USB-A 3.1 (7.5W) x2, Gigabit Ethernet – for Mac and PC laptops</td>\n",
       "      <td>249.99</td>\n",
       "      <td>False</td>\n",
       "      <td>55</td>\n",
       "    </tr>\n",
       "    <tr>\n",
       "      <th>12</th>\n",
       "      <td>B085ZMLWJR</td>\n",
       "      <td>False</td>\n",
       "      <td>False</td>\n",
       "      <td>USB C Docking Station, UtechSmart 18in1 Quadruple Display Laptop Universal Docking Station for MacBook Pro &amp; Windows,Thunderbolt 3 Dock with SSD Enclosure 3HDMI VGA 100WPD 5USB-A SD/TF Slot 3.5mm RJ45</td>\n",
       "      <td>140.03</td>\n",
       "      <td>False</td>\n",
       "      <td>327</td>\n",
       "    </tr>\n",
       "    <tr>\n",
       "      <th>13</th>\n",
       "      <td>B08KQ9JQZR</td>\n",
       "      <td>False</td>\n",
       "      <td>False</td>\n",
       "      <td>Kensington USB 3.0 Dual Display Docking Station for Windows, Mac OS, Surface Pro &amp; Surface Laptop (K33972US),Black</td>\n",
       "      <td>199.99</td>\n",
       "      <td>False</td>\n",
       "      <td>35</td>\n",
       "    </tr>\n",
       "    <tr>\n",
       "      <th>14</th>\n",
       "      <td>B07T2RW54X</td>\n",
       "      <td>False</td>\n",
       "      <td>False</td>\n",
       "      <td>WAVLINK 8K Thunderbolt 3 Docking Station with 60W Charging, Dual 4K@60Hz &amp; Single 8K@30Hz Display, Dual DP 1.4, 3xUSB Gen 2, 2xUSB3.0, Gigabit Ethernet, Audio for 2016+ MacBook Pro &amp; Specific PC</td>\n",
       "      <td>179.86</td>\n",
       "      <td>False</td>\n",
       "      <td>84</td>\n",
       "    </tr>\n",
       "    <tr>\n",
       "      <th>15</th>\n",
       "      <td>B07N6552YK</td>\n",
       "      <td>False</td>\n",
       "      <td>False</td>\n",
       "      <td>WAVLINK Thunderbolt 3 Docking Station with 85W Charging,2X Thunderbolt 3 up to 40Gb/s, Display Port up to 4K@60Hz Display,4X USB 3.0 Ports, SD Card Slot, LAN for Mac/Windows Thunderbolt 3 Laptops PC</td>\n",
       "      <td>189.86</td>\n",
       "      <td>False</td>\n",
       "      <td>106</td>\n",
       "    </tr>\n",
       "    <tr>\n",
       "      <th>0</th>\n",
       "      <td>B0845X1LV7</td>\n",
       "      <td>True</td>\n",
       "      <td>False</td>\n",
       "      <td>Plugable Thunderbolt 3 and USB C Dock with 60W Charging, Compatible with MacBook/MacBook Pro and Windows Laptops, Dual DisplayPort, 2X USB-C, 3X USB 3.0, Gigabit Ethernet, Audio Jack - Horizontal</td>\n",
       "      <td>219.00</td>\n",
       "      <td>False</td>\n",
       "      <td>55</td>\n",
       "    </tr>\n",
       "    <tr>\n",
       "      <th>1</th>\n",
       "      <td>B07RRVJSW5</td>\n",
       "      <td>False</td>\n",
       "      <td>False</td>\n",
       "      <td>USB C Thunderbolt 3 Dock HUB with Cable -8K DisplayPort,120W Laptop Charging, 3 USB 3.1 Gen 2, Ethernet, UHS-II SD/CFast 2.0 Card Slot,Thunderbolt 3 Docking Station Compatible with Mac and Windows</td>\n",
       "      <td>179.99</td>\n",
       "      <td>True</td>\n",
       "      <td>31</td>\n",
       "    </tr>\n",
       "    <tr>\n",
       "      <th>2</th>\n",
       "      <td>B0875X195Z</td>\n",
       "      <td>False</td>\n",
       "      <td>False</td>\n",
       "      <td>Targus Thunderbolt 3 8K Docking Station with 85W Power Delivery, Black/Gray (DOCK221USZ)</td>\n",
       "      <td>305.27</td>\n",
       "      <td>False</td>\n",
       "      <td>14</td>\n",
       "    </tr>\n",
       "    <tr>\n",
       "      <th>4</th>\n",
       "      <td>B07JMH6BSY</td>\n",
       "      <td>True</td>\n",
       "      <td>False</td>\n",
       "      <td>OWC 14-Port Thunderbolt 3 Dock with Cable, Compatible with Windows PC and Mac, Space Gray, (OWCTB3DK14PSG)</td>\n",
       "      <td>249.00</td>\n",
       "      <td>False</td>\n",
       "      <td>507</td>\n",
       "    </tr>\n",
       "  </tbody>\n",
       "</table>"
      ],
      "text/plain": [
       "<IPython.core.display.HTML object>"
      ]
     },
     "execution_count": 283,
     "metadata": {},
     "output_type": "execute_result"
    }
   ],
   "source": [
    "c_df = pd.concat([df,o_df]).drop_duplicates(['asin'], keep=False, )\n",
    "d_df = pd.concat([df, o_df]).loc[pd.concat([df, o_df]).duplicated(subset=['asin'])]\n",
    "from IPython.display import HTML\n",
    "HTML(c_df.to_html())"
   ]
  },
  {
   "cell_type": "code",
   "execution_count": 284,
   "id": "48f9d52e-9cac-4727-b8e8-dcd09cab51e9",
   "metadata": {},
   "outputs": [
    {
     "data": {
      "text/html": [
       "<table border=\"1\" class=\"dataframe\">\n",
       "  <thead>\n",
       "    <tr style=\"text-align: right;\">\n",
       "      <th></th>\n",
       "      <th>asin</th>\n",
       "      <th>ad</th>\n",
       "      <th>amazon_choice</th>\n",
       "      <th>title</th>\n",
       "      <th>price</th>\n",
       "      <th>coupon</th>\n",
       "      <th>review_num</th>\n",
       "    </tr>\n",
       "  </thead>\n",
       "  <tbody>\n",
       "    <tr>\n",
       "      <th>3</th>\n",
       "      <td>B07VL5XLBS</td>\n",
       "      <td>True</td>\n",
       "      <td>False</td>\n",
       "      <td>Kensington Thunderbolt 3 Docking Station, SD Card Reader, 60W PD and Dual 4K HDMI for Mac and Windows</td>\n",
       "      <td>249.63</td>\n",
       "      <td>False</td>\n",
       "      <td>329</td>\n",
       "    </tr>\n",
       "  </tbody>\n",
       "</table>"
      ],
      "text/plain": [
       "<IPython.core.display.HTML object>"
      ]
     },
     "execution_count": 284,
     "metadata": {},
     "output_type": "execute_result"
    }
   ],
   "source": [
    "from IPython.display import HTML\n",
    "HTML(d_df.to_html())"
   ]
  },
  {
   "cell_type": "code",
   "execution_count": 285,
   "id": "3294c868-8c24-4ff0-abc0-584b6ba50934",
   "metadata": {},
   "outputs": [],
   "source": [
    "doc = \"\\n\".join(d_df['title'])\n",
    "kw_model = KeyBERT('distilbert-base-nli-mean-tokens')\n",
    "keywords = kw_model.extract_keywords(doc, keyphrase_ngram_range=(1, 3), stop_words='english')"
   ]
  },
  {
   "cell_type": "code",
   "execution_count": 286,
   "id": "3eb99a64-d97c-46a0-9c84-0a6c83457621",
   "metadata": {},
   "outputs": [
    {
     "data": {
      "text/plain": [
       "[('4k hdmi mac', 0.763),\n",
       " ('hdmi mac windows', 0.6642),\n",
       " ('dual 4k hdmi', 0.6515),\n",
       " ('hdmi mac', 0.6361),\n",
       " ('4k hdmi', 0.6064)]"
      ]
     },
     "execution_count": 286,
     "metadata": {},
     "output_type": "execute_result"
    }
   ],
   "source": [
    "keywords"
   ]
  },
  {
   "cell_type": "code",
   "execution_count": 287,
   "id": "599920a5-48cf-4f4e-86b0-c92916e93bc7",
   "metadata": {},
   "outputs": [],
   "source": [
    "doc = \"\\n\".join(c_df['title'])\n",
    "kw_model = KeyBERT('distilbert-base-nli-mean-tokens')\n",
    "keywords = kw_model.extract_keywords(doc, keyphrase_ngram_range=(1, 3), stop_words='english')"
   ]
  },
  {
   "cell_type": "code",
   "execution_count": 288,
   "id": "f7200c0b-0192-4adf-a14f-9474c0a18ba0",
   "metadata": {},
   "outputs": [
    {
     "data": {
      "text/plain": [
       "[('hdmi 40gb usb', 0.6912),\n",
       " ('macbook pro docking', 0.686),\n",
       " ('3x usb gigabit', 0.6838),\n",
       " ('hdmi 6x usb', 0.6805),\n",
       " ('display 4x usb', 0.6646)]"
      ]
     },
     "execution_count": 288,
     "metadata": {},
     "output_type": "execute_result"
    }
   ],
   "source": [
    "keywords"
   ]
  }
 ],
 "metadata": {
  "kernelspec": {
   "display_name": "fantastic-amazon",
   "language": "python",
   "name": "fantastic-amazon"
  },
  "language_info": {
   "codemirror_mode": {
    "name": "ipython",
    "version": 3
   },
   "file_extension": ".py",
   "mimetype": "text/x-python",
   "name": "python",
   "nbconvert_exporter": "python",
   "pygments_lexer": "ipython3",
   "version": "3.8.5"
  }
 },
 "nbformat": 4,
 "nbformat_minor": 5
}
