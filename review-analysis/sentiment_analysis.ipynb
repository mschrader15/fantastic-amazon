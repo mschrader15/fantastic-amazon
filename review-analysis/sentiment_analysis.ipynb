{
 "cells": [
  {
   "cell_type": "markdown",
   "id": "dc80d650-447d-453a-8a74-0193d0aee41b",
   "metadata": {},
   "source": [
    "# Exploratory Analysis of Competitor Reviews"
   ]
  },
  {
   "cell_type": "code",
   "execution_count": 26,
   "id": "af982f23-4046-4764-8c6d-eb78f4958f8a",
   "metadata": {},
   "outputs": [],
   "source": [
    "import os\n",
    "import pandas as pd\n",
    "from keybert import KeyBERT\n",
    "from bertopic import BERTopic\n",
    "import glob"
   ]
  },
  {
   "cell_type": "markdown",
   "id": "0b41d53e-d9c0-4765-8560-419ed83b3c00",
   "metadata": {},
   "source": [
    "## Load The Dataset\n",
    "\n",
    "**This can be replaced with a script to automatically pull the reviews**"
   ]
  },
  {
   "cell_type": "code",
   "execution_count": 2,
   "id": "b543db70-806f-48dc-b951-885cd9b4d849",
   "metadata": {},
   "outputs": [],
   "source": [
    "file_name = \"B072JK37LV.csv\""
   ]
  },
  {
   "cell_type": "code",
   "execution_count": 3,
   "id": "6e0be60e-52c9-484b-94a8-692e79ac4d33",
   "metadata": {},
   "outputs": [
    {
     "name": "stderr",
     "output_type": "stream",
     "text": [
      "b'Skipping line 24: expected 6 fields, saw 7\\nSkipping line 25: expected 6 fields, saw 7\\nSkipping line 36: expected 6 fields, saw 7\\nSkipping line 43: expected 6 fields, saw 7\\n'\n"
     ]
    }
   ],
   "source": [
    "df = pd.read_csv(os.path.join('..', 'data', file_name), error_bad_lines=False)"
   ]
  },
  {
   "cell_type": "code",
   "execution_count": 4,
   "id": "bbb59da8-9c42-42f7-87d1-3c8f77ca84cb",
   "metadata": {},
   "outputs": [
    {
     "data": {
      "text/html": [
       "<div>\n",
       "<style scoped>\n",
       "    .dataframe tbody tr th:only-of-type {\n",
       "        vertical-align: middle;\n",
       "    }\n",
       "\n",
       "    .dataframe tbody tr th {\n",
       "        vertical-align: top;\n",
       "    }\n",
       "\n",
       "    .dataframe thead th {\n",
       "        text-align: right;\n",
       "    }\n",
       "</style>\n",
       "<table border=\"1\" class=\"dataframe\">\n",
       "  <thead>\n",
       "    <tr style=\"text-align: right;\">\n",
       "      <th></th>\n",
       "      <th>ReviewerName</th>\n",
       "      <th>Stars</th>\n",
       "      <th>ReviewLink</th>\n",
       "      <th>Title</th>\n",
       "      <th>Description</th>\n",
       "      <th>Review</th>\n",
       "    </tr>\n",
       "  </thead>\n",
       "  <tbody>\n",
       "    <tr>\n",
       "      <th>0</th>\n",
       "      <td>Aly Fam</td>\n",
       "      <td>5.0</td>\n",
       "      <td>https://www.amazon.com//gp/customer-reviews/RI...</td>\n",
       "      <td>Works Great with Lenovo Yoga 920 and x2 4K LG ...</td>\n",
       "      <td>Reviewed in the United States on February 20  ...</td>\n",
       "      <td>Works with my Lenovo Yoga 920. I have x2 4K LG...</td>\n",
       "    </tr>\n",
       "    <tr>\n",
       "      <th>1</th>\n",
       "      <td>Christian Carvajal</td>\n",
       "      <td>1.0</td>\n",
       "      <td>https://www.amazon.com//gp/customer-reviews/R1...</td>\n",
       "      <td>Doesn’t work on MacBook Air M1</td>\n",
       "      <td>Reviewed in the United States on January 28  2021</td>\n",
       "      <td>MacBook Air M1 here. Didn’t work at all. Not e...</td>\n",
       "    </tr>\n",
       "    <tr>\n",
       "      <th>2</th>\n",
       "      <td>Steven R. Sloshberg</td>\n",
       "      <td>5.0</td>\n",
       "      <td>https://www.amazon.com//gp/customer-reviews/R3...</td>\n",
       "      <td>Great way to add second monitor to desktop PC</td>\n",
       "      <td>Reviewed in the United States on January 4  2021</td>\n",
       "      <td>Fantastic add on for desktop PC. Acts as a sec...</td>\n",
       "    </tr>\n",
       "    <tr>\n",
       "      <th>3</th>\n",
       "      <td>Amazon Customer</td>\n",
       "      <td>5.0</td>\n",
       "      <td>https://www.amazon.com//gp/customer-reviews/R1...</td>\n",
       "      <td>Awesome technical customer service.</td>\n",
       "      <td>Reviewed in the United States on November 24  ...</td>\n",
       "      <td>I bought this item because their technical ser...</td>\n",
       "    </tr>\n",
       "    <tr>\n",
       "      <th>4</th>\n",
       "      <td>BIG O</td>\n",
       "      <td>5.0</td>\n",
       "      <td>https://www.amazon.com//gp/customer-reviews/R3...</td>\n",
       "      <td>Real deal</td>\n",
       "      <td>Reviewed in the United States on November 15  ...</td>\n",
       "      <td>This is the real deal. Plug it and forget it.</td>\n",
       "    </tr>\n",
       "  </tbody>\n",
       "</table>\n",
       "</div>"
      ],
      "text/plain": [
       "          ReviewerName  Stars  \\\n",
       "0              Aly Fam    5.0   \n",
       "1   Christian Carvajal    1.0   \n",
       "2  Steven R. Sloshberg    5.0   \n",
       "3      Amazon Customer    5.0   \n",
       "4                BIG O    5.0   \n",
       "\n",
       "                                          ReviewLink  \\\n",
       "0  https://www.amazon.com//gp/customer-reviews/RI...   \n",
       "1  https://www.amazon.com//gp/customer-reviews/R1...   \n",
       "2  https://www.amazon.com//gp/customer-reviews/R3...   \n",
       "3  https://www.amazon.com//gp/customer-reviews/R1...   \n",
       "4  https://www.amazon.com//gp/customer-reviews/R3...   \n",
       "\n",
       "                                               Title  \\\n",
       "0  Works Great with Lenovo Yoga 920 and x2 4K LG ...   \n",
       "1                     Doesn’t work on MacBook Air M1   \n",
       "2      Great way to add second monitor to desktop PC   \n",
       "3                Awesome technical customer service.   \n",
       "4                                          Real deal   \n",
       "\n",
       "                                         Description  \\\n",
       "0  Reviewed in the United States on February 20  ...   \n",
       "1  Reviewed in the United States on January 28  2021   \n",
       "2   Reviewed in the United States on January 4  2021   \n",
       "3  Reviewed in the United States on November 24  ...   \n",
       "4  Reviewed in the United States on November 15  ...   \n",
       "\n",
       "                                              Review  \n",
       "0  Works with my Lenovo Yoga 920. I have x2 4K LG...  \n",
       "1  MacBook Air M1 here. Didn’t work at all. Not e...  \n",
       "2  Fantastic add on for desktop PC. Acts as a sec...  \n",
       "3  I bought this item because their technical ser...  \n",
       "4      This is the real deal. Plug it and forget it.  "
      ]
     },
     "execution_count": 4,
     "metadata": {},
     "output_type": "execute_result"
    }
   ],
   "source": [
    "df.head()"
   ]
  },
  {
   "cell_type": "code",
   "execution_count": 5,
   "id": "447aa3e8-45a6-4e0c-a871-7224f7c64616",
   "metadata": {},
   "outputs": [
    {
     "data": {
      "text/html": [
       "<div>\n",
       "<style scoped>\n",
       "    .dataframe tbody tr th:only-of-type {\n",
       "        vertical-align: middle;\n",
       "    }\n",
       "\n",
       "    .dataframe tbody tr th {\n",
       "        vertical-align: top;\n",
       "    }\n",
       "\n",
       "    .dataframe thead th {\n",
       "        text-align: right;\n",
       "    }\n",
       "</style>\n",
       "<table border=\"1\" class=\"dataframe\">\n",
       "  <thead>\n",
       "    <tr style=\"text-align: right;\">\n",
       "      <th></th>\n",
       "      <th>ReviewerName</th>\n",
       "      <th>Stars</th>\n",
       "      <th>ReviewLink</th>\n",
       "      <th>Title</th>\n",
       "      <th>Description</th>\n",
       "      <th>Review</th>\n",
       "    </tr>\n",
       "  </thead>\n",
       "  <tbody>\n",
       "    <tr>\n",
       "      <th>1</th>\n",
       "      <td>Christian Carvajal</td>\n",
       "      <td>1.0</td>\n",
       "      <td>https://www.amazon.com//gp/customer-reviews/R1...</td>\n",
       "      <td>Doesn’t work on MacBook Air M1</td>\n",
       "      <td>Reviewed in the United States on January 28  2021</td>\n",
       "      <td>MacBook Air M1 here. Didn’t work at all. Not e...</td>\n",
       "    </tr>\n",
       "    <tr>\n",
       "      <th>21</th>\n",
       "      <td>Ryan</td>\n",
       "      <td>1.0</td>\n",
       "      <td>https://www.amazon.com//gp/customer-reviews/R1...</td>\n",
       "      <td>Simply Doesn't Work</td>\n",
       "      <td>Reviewed in the United States on September 26 ...</td>\n",
       "      <td>Macbook Pro 2017 15\\ 3.1 Ghz top-end at the ti...</td>\n",
       "    </tr>\n",
       "    <tr>\n",
       "      <th>23</th>\n",
       "      <td>C Family</td>\n",
       "      <td>1.0</td>\n",
       "      <td>https://www.amazon.com//gp/customer-reviews/RU...</td>\n",
       "      <td>Was great while it lasted</td>\n",
       "      <td>Reviewed in the United States on March 9  2018</td>\n",
       "      <td>worked for 2 months then stopped working. Was ...</td>\n",
       "    </tr>\n",
       "    <tr>\n",
       "      <th>27</th>\n",
       "      <td>NOYGDB</td>\n",
       "      <td>1.0</td>\n",
       "      <td>https://www.amazon.com//gp/customer-reviews/R1...</td>\n",
       "      <td>Razer Pro- Doesn't work.</td>\n",
       "      <td>Reviewed in the United States on February 12  ...</td>\n",
       "      <td>Doesn't work on new Razer Pro FHD1060. Downloa...</td>\n",
       "    </tr>\n",
       "    <tr>\n",
       "      <th>33</th>\n",
       "      <td>Stephanie</td>\n",
       "      <td>1.0</td>\n",
       "      <td>https://www.amazon.com//gp/customer-reviews/R3...</td>\n",
       "      <td>Doesn't work with Cinema 4K displays</td>\n",
       "      <td>Reviewed in the United States on September 2  ...</td>\n",
       "      <td>Does not work with my brand new 2017 MacBook P...</td>\n",
       "    </tr>\n",
       "  </tbody>\n",
       "</table>\n",
       "</div>"
      ],
      "text/plain": [
       "          ReviewerName  Stars  \\\n",
       "1   Christian Carvajal    1.0   \n",
       "21                Ryan    1.0   \n",
       "23            C Family    1.0   \n",
       "27              NOYGDB    1.0   \n",
       "33           Stephanie    1.0   \n",
       "\n",
       "                                           ReviewLink  \\\n",
       "1   https://www.amazon.com//gp/customer-reviews/R1...   \n",
       "21  https://www.amazon.com//gp/customer-reviews/R1...   \n",
       "23  https://www.amazon.com//gp/customer-reviews/RU...   \n",
       "27  https://www.amazon.com//gp/customer-reviews/R1...   \n",
       "33  https://www.amazon.com//gp/customer-reviews/R3...   \n",
       "\n",
       "                                   Title  \\\n",
       "1         Doesn’t work on MacBook Air M1   \n",
       "21                   Simply Doesn't Work   \n",
       "23             Was great while it lasted   \n",
       "27              Razer Pro- Doesn't work.   \n",
       "33  Doesn't work with Cinema 4K displays   \n",
       "\n",
       "                                          Description  \\\n",
       "1   Reviewed in the United States on January 28  2021   \n",
       "21  Reviewed in the United States on September 26 ...   \n",
       "23     Reviewed in the United States on March 9  2018   \n",
       "27  Reviewed in the United States on February 12  ...   \n",
       "33  Reviewed in the United States on September 2  ...   \n",
       "\n",
       "                                               Review  \n",
       "1   MacBook Air M1 here. Didn’t work at all. Not e...  \n",
       "21  Macbook Pro 2017 15\\ 3.1 Ghz top-end at the ti...  \n",
       "23  worked for 2 months then stopped working. Was ...  \n",
       "27  Doesn't work on new Razer Pro FHD1060. Downloa...  \n",
       "33  Does not work with my brand new 2017 MacBook P...  "
      ]
     },
     "execution_count": 5,
     "metadata": {},
     "output_type": "execute_result"
    }
   ],
   "source": [
    "one_star = df.loc[df['Stars'] < 2] \n",
    "one_star.head()"
   ]
  },
  {
   "cell_type": "code",
   "execution_count": 6,
   "id": "ae6ea1dc-1833-42a2-a2fe-a1bcd3469585",
   "metadata": {},
   "outputs": [
    {
     "data": {
      "text/html": [
       "<div>\n",
       "<style scoped>\n",
       "    .dataframe tbody tr th:only-of-type {\n",
       "        vertical-align: middle;\n",
       "    }\n",
       "\n",
       "    .dataframe tbody tr th {\n",
       "        vertical-align: top;\n",
       "    }\n",
       "\n",
       "    .dataframe thead th {\n",
       "        text-align: right;\n",
       "    }\n",
       "</style>\n",
       "<table border=\"1\" class=\"dataframe\">\n",
       "  <thead>\n",
       "    <tr style=\"text-align: right;\">\n",
       "      <th></th>\n",
       "      <th>ReviewerName</th>\n",
       "      <th>Stars</th>\n",
       "      <th>ReviewLink</th>\n",
       "      <th>Title</th>\n",
       "      <th>Description</th>\n",
       "      <th>Review</th>\n",
       "    </tr>\n",
       "  </thead>\n",
       "  <tbody>\n",
       "    <tr>\n",
       "      <th>0</th>\n",
       "      <td>Aly Fam</td>\n",
       "      <td>5.0</td>\n",
       "      <td>https://www.amazon.com//gp/customer-reviews/RI...</td>\n",
       "      <td>Works Great with Lenovo Yoga 920 and x2 4K LG ...</td>\n",
       "      <td>Reviewed in the United States on February 20  ...</td>\n",
       "      <td>Works with my Lenovo Yoga 920. I have x2 4K LG...</td>\n",
       "    </tr>\n",
       "    <tr>\n",
       "      <th>2</th>\n",
       "      <td>Steven R. Sloshberg</td>\n",
       "      <td>5.0</td>\n",
       "      <td>https://www.amazon.com//gp/customer-reviews/R3...</td>\n",
       "      <td>Great way to add second monitor to desktop PC</td>\n",
       "      <td>Reviewed in the United States on January 4  2021</td>\n",
       "      <td>Fantastic add on for desktop PC. Acts as a sec...</td>\n",
       "    </tr>\n",
       "    <tr>\n",
       "      <th>3</th>\n",
       "      <td>Amazon Customer</td>\n",
       "      <td>5.0</td>\n",
       "      <td>https://www.amazon.com//gp/customer-reviews/R1...</td>\n",
       "      <td>Awesome technical customer service.</td>\n",
       "      <td>Reviewed in the United States on November 24  ...</td>\n",
       "      <td>I bought this item because their technical ser...</td>\n",
       "    </tr>\n",
       "    <tr>\n",
       "      <th>4</th>\n",
       "      <td>BIG O</td>\n",
       "      <td>5.0</td>\n",
       "      <td>https://www.amazon.com//gp/customer-reviews/R3...</td>\n",
       "      <td>Real deal</td>\n",
       "      <td>Reviewed in the United States on November 15  ...</td>\n",
       "      <td>This is the real deal. Plug it and forget it.</td>\n",
       "    </tr>\n",
       "    <tr>\n",
       "      <th>6</th>\n",
       "      <td>Apple0727</td>\n",
       "      <td>5.0</td>\n",
       "      <td>https://www.amazon.com//gp/customer-reviews/R3...</td>\n",
       "      <td>3 monitors  3 different screens, this is the p...</td>\n",
       "      <td>Reviewed in the United States on August 26  2020</td>\n",
       "      <td>A little expensive  but so happy with product ...</td>\n",
       "    </tr>\n",
       "  </tbody>\n",
       "</table>\n",
       "</div>"
      ],
      "text/plain": [
       "          ReviewerName  Stars  \\\n",
       "0              Aly Fam    5.0   \n",
       "2  Steven R. Sloshberg    5.0   \n",
       "3      Amazon Customer    5.0   \n",
       "4                BIG O    5.0   \n",
       "6            Apple0727    5.0   \n",
       "\n",
       "                                          ReviewLink  \\\n",
       "0  https://www.amazon.com//gp/customer-reviews/RI...   \n",
       "2  https://www.amazon.com//gp/customer-reviews/R3...   \n",
       "3  https://www.amazon.com//gp/customer-reviews/R1...   \n",
       "4  https://www.amazon.com//gp/customer-reviews/R3...   \n",
       "6  https://www.amazon.com//gp/customer-reviews/R3...   \n",
       "\n",
       "                                               Title  \\\n",
       "0  Works Great with Lenovo Yoga 920 and x2 4K LG ...   \n",
       "2      Great way to add second monitor to desktop PC   \n",
       "3                Awesome technical customer service.   \n",
       "4                                          Real deal   \n",
       "6  3 monitors  3 different screens, this is the p...   \n",
       "\n",
       "                                         Description  \\\n",
       "0  Reviewed in the United States on February 20  ...   \n",
       "2   Reviewed in the United States on January 4  2021   \n",
       "3  Reviewed in the United States on November 24  ...   \n",
       "4  Reviewed in the United States on November 15  ...   \n",
       "6   Reviewed in the United States on August 26  2020   \n",
       "\n",
       "                                              Review  \n",
       "0  Works with my Lenovo Yoga 920. I have x2 4K LG...  \n",
       "2  Fantastic add on for desktop PC. Acts as a sec...  \n",
       "3  I bought this item because their technical ser...  \n",
       "4      This is the real deal. Plug it and forget it.  \n",
       "6  A little expensive  but so happy with product ...  "
      ]
     },
     "execution_count": 6,
     "metadata": {},
     "output_type": "execute_result"
    }
   ],
   "source": [
    "four_five_star = df.loc[df['Stars'] >= 4] \n",
    "four_five_star.head()"
   ]
  },
  {
   "cell_type": "markdown",
   "id": "595276ed-ffe5-4eea-95bf-5b16ec3cdda1",
   "metadata": {},
   "source": [
    "### Applying KeyBERT"
   ]
  },
  {
   "cell_type": "code",
   "execution_count": 29,
   "id": "d596fdb0-8dae-4c0f-a24e-699209fcdba6",
   "metadata": {},
   "outputs": [],
   "source": [
    "doc_list = list(four_five_star['Review'])\n",
    "doc = \"\\n\".join(doc_list)\n",
    "# doc"
   ]
  },
  {
   "cell_type": "code",
   "execution_count": 20,
   "id": "e18844eb-5aed-4677-adad-48add6197089",
   "metadata": {},
   "outputs": [],
   "source": [
    "kw_model = KeyBERT('distilbert-base-nli-mean-tokens')\n",
    "keywords = kw_model.extract_keywords(doc, keyphrase_ngram_range=(2, 8), stop_words='english', \n",
    "                                      use_mmr=True, nr_candidates=10)"
   ]
  },
  {
   "cell_type": "code",
   "execution_count": 22,
   "id": "40dac618-aa60-4560-addb-af95e63b8e10",
   "metadata": {},
   "outputs": [
    {
     "data": {
      "text/plain": [
       "[('lenovo yoga 920 x2 4k lg monitors hooked', 0.7263),\n",
       " ('slight flickering monitors initially laptop connection loose', 0.5439),\n",
       " ('expensive happy product does exactly need connected macbook', 0.6127),\n",
       " ('bootcamp nvidia driver folder manually picks right works', 0.5958),\n",
       " ('mojave win10 bootcamp works perfectly lag just smooth', 0.5692)]"
      ]
     },
     "execution_count": 22,
     "metadata": {},
     "output_type": "execute_result"
    }
   ],
   "source": [
    "keywords"
   ]
  },
  {
   "cell_type": "markdown",
   "id": "866836df-1c71-472c-87e7-04be1d176c52",
   "metadata": {},
   "source": [
    "### Applying BertTopic"
   ]
  },
  {
   "cell_type": "code",
   "execution_count": 80,
   "id": "e3d52ac1-1927-4652-bf1c-a61b66edc69f",
   "metadata": {},
   "outputs": [
    {
     "data": {
      "application/vnd.jupyter.widget-view+json": {
       "model_id": "21a2f1b5938b42de82ac4d9535aded8a",
       "version_major": 2,
       "version_minor": 0
      },
      "text/plain": [
       "Downloading:   0%|          | 0.00/499 [00:00<?, ?B/s]"
      ]
     },
     "metadata": {},
     "output_type": "display_data"
    },
    {
     "data": {
      "application/vnd.jupyter.widget-view+json": {
       "model_id": "f19b759762884a6e9a97eda44e92d7ad",
       "version_major": 2,
       "version_minor": 0
      },
      "text/plain": [
       "Downloading:   0%|          | 0.00/232k [00:00<?, ?B/s]"
      ]
     },
     "metadata": {},
     "output_type": "display_data"
    },
    {
     "data": {
      "application/vnd.jupyter.widget-view+json": {
       "model_id": "425f585b8da1447b8f43c668990fa4d0",
       "version_major": 2,
       "version_minor": 0
      },
      "text/plain": [
       "Downloading:   0%|          | 0.00/112 [00:00<?, ?B/s]"
      ]
     },
     "metadata": {},
     "output_type": "display_data"
    },
    {
     "data": {
      "application/vnd.jupyter.widget-view+json": {
       "model_id": "461e91692b3d4519ac7fad6002442b37",
       "version_major": 2,
       "version_minor": 0
      },
      "text/plain": [
       "Downloading:   0%|          | 0.00/39.0 [00:00<?, ?B/s]"
      ]
     },
     "metadata": {},
     "output_type": "display_data"
    },
    {
     "data": {
      "application/vnd.jupyter.widget-view+json": {
       "model_id": "e6cfe2923dfc45e293005d64ba2001c1",
       "version_major": 2,
       "version_minor": 0
      },
      "text/plain": [
       "Downloading:   0%|          | 0.00/534M [00:00<?, ?B/s]"
      ]
     },
     "metadata": {},
     "output_type": "display_data"
    },
    {
     "name": "stderr",
     "output_type": "stream",
     "text": [
      "Some weights of the model checkpoint at activebus/BERT_Review were not used when initializing BertModel: ['cls.predictions.transform.dense.weight', 'cls.predictions.transform.LayerNorm.weight', 'cls.predictions.transform.dense.bias', 'cls.predictions.bias', 'cls.predictions.decoder.weight', 'cls.predictions.transform.LayerNorm.bias', 'cls.predictions.decoder.bias']\n",
      "- This IS expected if you are initializing BertModel from the checkpoint of a model trained on another task or with another architecture (e.g. initializing a BertForSequenceClassification model from a BertForPreTraining model).\n",
      "- This IS NOT expected if you are initializing BertModel from the checkpoint of a model that you expect to be exactly identical (initializing a BertForSequenceClassification model from a BertForSequenceClassification model).\n"
     ]
    }
   ],
   "source": [
    "from flair.embeddings import TransformerDocumentEmbeddings\n",
    "\n",
    "amazon_reviews_zh = TransformerDocumentEmbeddings('activebus/BERT_Review')\n",
    "# topic_model = BERTopic(embedding_model=roberta)"
   ]
  },
  {
   "cell_type": "code",
   "execution_count": 81,
   "id": "db32560c-f713-4f15-bb49-a00ffe781edb",
   "metadata": {},
   "outputs": [
    {
     "data": {
      "text/plain": [
       "<bertopic._bertopic.BERTopic at 0x7efb6bd2d490>"
      ]
     },
     "execution_count": 81,
     "metadata": {},
     "output_type": "execute_result"
    }
   ],
   "source": [
    "topic_model = BERTopic(embedding_model=amazon_reviews_zh, nr_topics=2, n_gram_range=(1, 3), min_topic_size=5)\n",
    "topic_model.fit(doc_list)"
   ]
  },
  {
   "cell_type": "code",
   "execution_count": 82,
   "id": "2eb48fed-851b-4717-86c1-ab46d75d0cac",
   "metadata": {},
   "outputs": [
    {
     "data": {
      "text/plain": [
       "array([ 1, -1,  1,  0,  1,  1,  1,  1,  1,  1,  0,  1,  1,  1,  1,  1,  1,\n",
       "        1,  1,  0,  1,  0,  0, -1, -1,  1,  0,  1, -1,  1])"
      ]
     },
     "execution_count": 82,
     "metadata": {},
     "output_type": "execute_result"
    }
   ],
   "source": [
    "topics, _ = topic_model.transform(doc_list); topics"
   ]
  },
  {
   "cell_type": "code",
   "execution_count": 83,
   "id": "2fddbbec-8978-4e88-83b2-139f408d425b",
   "metadata": {},
   "outputs": [
    {
     "data": {
      "text/html": [
       "<div>\n",
       "<style scoped>\n",
       "    .dataframe tbody tr th:only-of-type {\n",
       "        vertical-align: middle;\n",
       "    }\n",
       "\n",
       "    .dataframe tbody tr th {\n",
       "        vertical-align: top;\n",
       "    }\n",
       "\n",
       "    .dataframe thead th {\n",
       "        text-align: right;\n",
       "    }\n",
       "</style>\n",
       "<table border=\"1\" class=\"dataframe\">\n",
       "  <thead>\n",
       "    <tr style=\"text-align: right;\">\n",
       "      <th></th>\n",
       "      <th>Topic</th>\n",
       "      <th>Count</th>\n",
       "      <th>Name</th>\n",
       "    </tr>\n",
       "  </thead>\n",
       "  <tbody>\n",
       "    <tr>\n",
       "      <th>0</th>\n",
       "      <td>1</td>\n",
       "      <td>20</td>\n",
       "      <td>1_with_is_thunderbolt_monitors</td>\n",
       "    </tr>\n",
       "    <tr>\n",
       "      <th>1</th>\n",
       "      <td>0</td>\n",
       "      <td>6</td>\n",
       "      <td>0_no issues_good no issues_far_far plug</td>\n",
       "    </tr>\n",
       "    <tr>\n",
       "      <th>2</th>\n",
       "      <td>-1</td>\n",
       "      <td>4</td>\n",
       "      <td>-1_great very pleased_great very_second video_...</td>\n",
       "    </tr>\n",
       "  </tbody>\n",
       "</table>\n",
       "</div>"
      ],
      "text/plain": [
       "   Topic  Count                                               Name\n",
       "0      1     20                     1_with_is_thunderbolt_monitors\n",
       "1      0      6            0_no issues_good no issues_far_far plug\n",
       "2     -1      4  -1_great very pleased_great very_second video_..."
      ]
     },
     "execution_count": 83,
     "metadata": {},
     "output_type": "execute_result"
    }
   ],
   "source": [
    "topic_model.get_topic_info()"
   ]
  },
  {
   "cell_type": "code",
   "execution_count": null,
   "id": "e9e0d456-fc5d-4bee-beff-ee0178f20a6d",
   "metadata": {},
   "outputs": [],
   "source": []
  }
 ],
 "metadata": {
  "kernelspec": {
   "display_name": "fantastic-amazon",
   "language": "python",
   "name": "fantastic-amazon"
  },
  "language_info": {
   "codemirror_mode": {
    "name": "ipython",
    "version": 3
   },
   "file_extension": ".py",
   "mimetype": "text/x-python",
   "name": "python",
   "nbconvert_exporter": "python",
   "pygments_lexer": "ipython3",
   "version": "3.8.5"
  }
 },
 "nbformat": 4,
 "nbformat_minor": 5
}
