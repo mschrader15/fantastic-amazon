{
 "cells": [
  {
   "cell_type": "markdown",
   "id": "dc80d650-447d-453a-8a74-0193d0aee41b",
   "metadata": {},
   "source": [
    "# Exploratory Analysis of Competitor Reviews"
   ]
  },
  {
   "cell_type": "code",
   "execution_count": 1,
   "id": "af982f23-4046-4764-8c6d-eb78f4958f8a",
   "metadata": {},
   "outputs": [],
   "source": [
    "import os\n",
    "import json\n",
    "import pandas as pd\n",
    "from keybert import KeyBERT\n",
    "from bertopic import BERTopic\n",
    "import glob"
   ]
  },
  {
   "cell_type": "markdown",
   "id": "0b41d53e-d9c0-4765-8560-419ed83b3c00",
   "metadata": {},
   "source": [
    "## Load The Dataset\n",
    "\n",
    "**This can be replaced with a script to automatically pull the reviews**"
   ]
  },
  {
   "cell_type": "code",
   "execution_count": 5,
   "id": "b543db70-806f-48dc-b951-885cd9b4d849",
   "metadata": {},
   "outputs": [],
   "source": [
    "file_name = \"reviews.json\""
   ]
  },
  {
   "cell_type": "code",
   "execution_count": 13,
   "id": "6e0be60e-52c9-484b-94a8-692e79ac4d33",
   "metadata": {},
   "outputs": [],
   "source": [
    "with open(os.path.join('..', 'data', file_name), 'r') as f:\n",
    "    reviews = json.load(f)"
   ]
  },
  {
   "cell_type": "markdown",
   "id": "c63b7c03-ba1e-4938-8365-71c1b22a0e9a",
   "metadata": {},
   "source": [
    "## Peaking at the Data"
   ]
  },
  {
   "cell_type": "code",
   "execution_count": 22,
   "id": "bbb59da8-9c42-42f7-87d1-3c8f77ca84cb",
   "metadata": {},
   "outputs": [
    {
     "data": {
      "text/plain": [
       "dict_keys(['date_info', 'name', 'title', 'content', 'rating'])"
      ]
     },
     "execution_count": 22,
     "metadata": {},
     "output_type": "execute_result"
    }
   ],
   "source": [
    "reviews['C31DUAL4KDP'][list(reviews['C31DUAL4KDP'].keys())[0]].keys()"
   ]
  },
  {
   "cell_type": "markdown",
   "id": "595276ed-ffe5-4eea-95bf-5b16ec3cdda1",
   "metadata": {},
   "source": [
    "### Applying KeyBERT"
   ]
  },
  {
   "cell_type": "code",
   "execution_count": 54,
   "id": "d596fdb0-8dae-4c0f-a24e-699209fcdba6",
   "metadata": {},
   "outputs": [],
   "source": [
    "doc_list = reviews['C31DUAL4KDP'][list(reviews['C31DUAL4KDP'].keys())[2]]['content']\n",
    "doc = \"\\n\".join(doc_list)\n",
    "# doc"
   ]
  },
  {
   "cell_type": "code",
   "execution_count": 55,
   "id": "e18844eb-5aed-4677-adad-48add6197089",
   "metadata": {},
   "outputs": [],
   "source": [
    "kw_model = KeyBERT('distilbert-base-nli-mean-tokens')\n",
    "keywords = kw_model.extract_keywords(doc, keyphrase_ngram_range=(3, 8), stop_words='english')"
   ]
  },
  {
   "cell_type": "code",
   "execution_count": 56,
   "id": "40dac618-aa60-4560-addb-af95e63b8e10",
   "metadata": {},
   "outputs": [
    {
     "data": {
      "text/plain": [
       "[('bought order expand basic small screen laptop dell', 0.7377),\n",
       " ('screened brand new lenovo gofanco usb dual displayport', 0.7142),\n",
       " ('repeatedly blue screened brand new lenovo gofanco usb', 0.7138),\n",
       " ('blue screened brand new lenovo gofanco usb dual', 0.7113),\n",
       " ('blue screened brand new lenovo gofanco usb', 0.702)]"
      ]
     },
     "execution_count": 56,
     "metadata": {},
     "output_type": "execute_result"
    }
   ],
   "source": [
    "keywords"
   ]
  },
  {
   "cell_type": "markdown",
   "id": "866836df-1c71-472c-87e7-04be1d176c52",
   "metadata": {},
   "source": [
    "### Applying BertTopic"
   ]
  },
  {
   "cell_type": "code",
   "execution_count": 57,
   "id": "e3d52ac1-1927-4652-bf1c-a61b66edc69f",
   "metadata": {},
   "outputs": [
    {
     "name": "stderr",
     "output_type": "stream",
     "text": [
      "Some weights of the model checkpoint at activebus/BERT_Review were not used when initializing BertModel: ['cls.predictions.transform.LayerNorm.bias', 'cls.predictions.transform.dense.weight', 'cls.predictions.decoder.weight', 'cls.predictions.transform.LayerNorm.weight', 'cls.predictions.transform.dense.bias', 'cls.predictions.bias', 'cls.predictions.decoder.bias']\n",
      "- This IS expected if you are initializing BertModel from the checkpoint of a model trained on another task or with another architecture (e.g. initializing a BertForSequenceClassification model from a BertForPreTraining model).\n",
      "- This IS NOT expected if you are initializing BertModel from the checkpoint of a model that you expect to be exactly identical (initializing a BertForSequenceClassification model from a BertForSequenceClassification model).\n"
     ]
    }
   ],
   "source": [
    "from flair.embeddings import TransformerDocumentEmbeddings\n",
    "\n",
    "amazon_reviews_zh = TransformerDocumentEmbeddings('activebus/BERT_Review')\n",
    "# topic_model = BERTopic(embedding_model=roberta)"
   ]
  },
  {
   "cell_type": "code",
   "execution_count": 59,
   "id": "db32560c-f713-4f15-bb49-a00ffe781edb",
   "metadata": {},
   "outputs": [
    {
     "data": {
      "text/plain": [
       "<bertopic._bertopic.BERTopic at 0x7fd81ec3cd30>"
      ]
     },
     "execution_count": 59,
     "metadata": {},
     "output_type": "execute_result"
    }
   ],
   "source": [
    "topic_model = BERTopic(embedding_model=amazon_reviews_zh, n_gram_range=(2, 3), min_topic_size=5)\n",
    "topic_model.fit(doc_list)"
   ]
  },
  {
   "cell_type": "code",
   "execution_count": 60,
   "id": "2eb48fed-851b-4717-86c1-ab46d75d0cac",
   "metadata": {},
   "outputs": [],
   "source": [
    "topics, _ = topic_model.transform(doc_list)"
   ]
  },
  {
   "cell_type": "code",
   "execution_count": 61,
   "id": "2fddbbec-8978-4e88-83b2-139f408d425b",
   "metadata": {},
   "outputs": [
    {
     "data": {
      "text/html": [
       "<div>\n",
       "<style scoped>\n",
       "    .dataframe tbody tr th:only-of-type {\n",
       "        vertical-align: middle;\n",
       "    }\n",
       "\n",
       "    .dataframe tbody tr th {\n",
       "        vertical-align: top;\n",
       "    }\n",
       "\n",
       "    .dataframe thead th {\n",
       "        text-align: right;\n",
       "    }\n",
       "</style>\n",
       "<table border=\"1\" class=\"dataframe\">\n",
       "  <thead>\n",
       "    <tr style=\"text-align: right;\">\n",
       "      <th></th>\n",
       "      <th>Topic</th>\n",
       "      <th>Count</th>\n",
       "      <th>Name</th>\n",
       "    </tr>\n",
       "  </thead>\n",
       "  <tbody>\n",
       "    <tr>\n",
       "      <th>0</th>\n",
       "      <td>1</td>\n",
       "      <td>27</td>\n",
       "      <td>1_to unplug_display port_my work_unplug it</td>\n",
       "    </tr>\n",
       "    <tr>\n",
       "      <th>1</th>\n",
       "      <td>0</td>\n",
       "      <td>12</td>\n",
       "      <td>0_but it_to purchase mini_to put_to put it</td>\n",
       "    </tr>\n",
       "  </tbody>\n",
       "</table>\n",
       "</div>"
      ],
      "text/plain": [
       "   Topic  Count                                        Name\n",
       "0      1     27  1_to unplug_display port_my work_unplug it\n",
       "1      0     12  0_but it_to purchase mini_to put_to put it"
      ]
     },
     "execution_count": 61,
     "metadata": {},
     "output_type": "execute_result"
    }
   ],
   "source": [
    "topic_model.get_topic_info()"
   ]
  },
  {
   "cell_type": "code",
   "execution_count": 62,
   "id": "e9e0d456-fc5d-4bee-beff-ee0178f20a6d",
   "metadata": {},
   "outputs": [
    {
     "data": {
      "text/plain": [
       "[('to unplug', 0.014460050321665792),\n",
       " ('display port', 0.014460050321665792),\n",
       " ('my work', 0.011380758546559924),\n",
       " ('unplug it', 0.011380758546559924),\n",
       " ('works great', 0.011380758546559924),\n",
       " ('it in', 0.011380758546559924),\n",
       " ('plug and', 0.011380758546559924),\n",
       " ('with the', 0.010089981674008814),\n",
       " ('further investigation it', 0.008090543075866968),\n",
       " ('had to', 0.008090543075866968)]"
      ]
     },
     "execution_count": 62,
     "metadata": {},
     "output_type": "execute_result"
    }
   ],
   "source": [
    "topic_model.get_topic(1)"
   ]
  }
 ],
 "metadata": {
  "kernelspec": {
   "display_name": "fantastic-amazon",
   "language": "python",
   "name": "fantastic-amazon"
  },
  "language_info": {
   "codemirror_mode": {
    "name": "ipython",
    "version": 3
   },
   "file_extension": ".py",
   "mimetype": "text/x-python",
   "name": "python",
   "nbconvert_exporter": "python",
   "pygments_lexer": "ipython3",
   "version": "3.8.5"
  }
 },
 "nbformat": 4,
 "nbformat_minor": 5
}
