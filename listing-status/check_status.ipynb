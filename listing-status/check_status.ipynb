{
 "cells": [
  {
   "cell_type": "markdown",
   "metadata": {},
   "source": [
    "# For Checking the Listing Status\n"
   ]
  },
  {
   "cell_type": "code",
   "execution_count": 2,
   "metadata": {},
   "outputs": [],
   "source": [
    "import os\n",
    "import sys\n",
    "import pathlib\n",
    "import requests\n",
    "import aiohttp\n",
    "import asyncio\n",
    "import random\n",
    "import pygsheets\n",
    "from typing import List, Tuple\n",
    "from bs4 import BeautifulSoup\n",
    "from fake_useragent import UserAgent\n",
    "import proxyscrape\n",
    "\n"
   ]
  },
  {
   "cell_type": "code",
   "execution_count": 3,
   "metadata": {},
   "outputs": [],
   "source": [
    "SHEETS_SECRET = \"i-tec-349718-b1c6f340ebe6.json\"\n",
    "SHEETS_ID = \"1otu2JmIGmjM6dbEWuO7dqx8yiq_p1ocjFwUK7HOWjoo\""
   ]
  },
  {
   "cell_type": "code",
   "execution_count": 4,
   "metadata": {},
   "outputs": [],
   "source": [
    "path = !pwd\n",
    "ROOT = os.path.join(*os.path.split(path[0])[:-1])"
   ]
  },
  {
   "cell_type": "code",
   "execution_count": 5,
   "metadata": {},
   "outputs": [],
   "source": [
    "\n",
    "\n",
    "sys.path.append(ROOT)\n"
   ]
  },
  {
   "cell_type": "code",
   "execution_count": 6,
   "metadata": {},
   "outputs": [],
   "source": [
    "from fantastic_amazon.sheets_connector import GoogleSheets\n",
    "\n"
   ]
  },
  {
   "cell_type": "code",
   "execution_count": 7,
   "metadata": {},
   "outputs": [],
   "source": [
    "sheet = GoogleSheets(sheet_key=SHEETS_ID , sheet_name=\"Sheet1\" , service_file=os.path.join(ROOT, SHEETS_SECRET))"
   ]
  },
  {
   "cell_type": "code",
   "execution_count": 8,
   "metadata": {},
   "outputs": [],
   "source": [
    "urls = [(row, (row[3].hyperlink).split(\"?\")[0]) for row in sheet.w.range(\"A:L\")[1:] if row[0].value != '']"
   ]
  },
  {
   "cell_type": "code",
   "execution_count": 9,
   "metadata": {},
   "outputs": [],
   "source": [
    "urls = [row for row in urls if row[1] != '']"
   ]
  },
  {
   "cell_type": "code",
   "execution_count": 10,
   "metadata": {},
   "outputs": [],
   "source": [
    "STORE_ID = \"F7A5C936-4824-42B0-8265-64E36DE5D115\"\n",
    "\n",
    "def check_store(row: Tuple[List[pygsheets.Cell], str], html: BeautifulSoup):\n",
    "    if STORE_ID in html.body.find(id=\"bylineInfo\")['href']:\n",
    "        row[0][7].set_value('Y')\n",
    "    else:\n",
    "        row[0][7].set_value('N')\n",
    "    row[0][7].update()\n",
    "\n",
    "def aplus(row: Tuple[List[pygsheets.Cell], str], html: BeautifulSoup):\n",
    "    if html.body.find(id=\"aplus\"):\n",
    "        row[0][8].set_value('Y')\n",
    "    else:\n",
    "        row[0][8].set_value('N')\n",
    "    row[0][8].update()\n",
    "\n",
    "\n",
    "def video(row: Tuple[List[pygsheets.Cell], str], html: BeautifulSoup):\n",
    "    if 'video'in html.body.find(id=\"altImages\").text.strip().lower():\n",
    "        row[0][9].set_value('Y')\n",
    "    else:\n",
    "        row[0][9].set_value('N')\n",
    "    row[0][8].update()\n",
    "\n",
    "\n",
    "def pn(row: Tuple[List[pygsheets.Cell], str], html: BeautifulSoup):\n",
    "    if row[0][0].value_unformatted.lower() in html.body.find(id=\"productDetails_detailBullets_sections1\").text.lower():\n",
    "        row[0][11].set_value('Y')\n",
    "    else:\n",
    "        row[0][11].set_value('N')\n",
    "    row[0][11].update()"
   ]
  },
  {
   "cell_type": "code",
   "execution_count": 12,
   "metadata": {},
   "outputs": [],
   "source": [
    "headers = {\n",
    "  'Cookie': 'i18n-prefs=USD'\n",
    "}\n",
    "\n",
    "\n",
    "CHECK_FUNCTIONS = [check_store, aplus, video, pn]\n",
    "\n",
    "\n",
    "async def parse_html(session, row):\n",
    "  headers = {'User-Agent':str(UserAgent().random)}\n",
    "  async with session.post(row[1], headers=headers) as resp:\n",
    "      # return await resp.text()\n",
    "      html = BeautifulSoup(await resp.text(), )\n",
    "      for fn in CHECK_FUNCTIONS:\n",
    "        fn(row, html)\n",
    "  print(\"Done with \", row[1])\n",
    "\n"
   ]
  },
  {
   "cell_type": "code",
   "execution_count": 13,
   "metadata": {},
   "outputs": [
    {
     "name": "stdout",
     "output_type": "stream",
     "text": [
      "Done with  http://www.amazon.com/dp/B09THLTQYR\n",
      "Done with  https://www.amazon.com/dp/B09THKL5D2\n",
      "Done with  http://www.amazon.com/dp/B08CVSWZ3H\n",
      "Done with  http://www.amazon.com/dp/B08NK1QKZ5\n",
      "Done with  http://www.amazon.com/dp/B09C55JB4Y\n",
      "Done with  http://www.amazon.com/dp/B08CVS9TGQ\n",
      "Done with  https://www.amazon.com/dp/B09THK9TH6\n",
      "Done with  http://www.amazon.com/dp/B09K4GKHWZ\n",
      "Done with  https://www.amazon.com/dp/B086T5QSDK\n",
      "Done with  https://www.amazon.com/dp/B09YT5PMGL\n",
      "Done with  http://www.amazon.com/dp/B07MHVN9SV\n",
      "Done with  http://www.amazon.com/dp/B09C53JG5H\n",
      "Done with  http://www.amazon.com/dp/B09C537GHV\n",
      "Done with  http://www.amazon.com/dp/B09C53H8QB\n",
      "Done with  http://www.amazon.com/dp/B0768CY3WL\n",
      "Done with  http://www.amazon.com/dp/B075Z5WK7S\n"
     ]
    }
   ],
   "source": [
    "\n",
    "data = []\n",
    "tasks = []\n",
    "\n",
    "async with aiohttp.ClientSession() as session:\n",
    "    \n",
    "    for url in urls:\n",
    "        tasks.append(asyncio.ensure_future(parse_html(session, url)))\n",
    "\n",
    "    data = await asyncio.gather(*tasks)"
   ]
  }
 ],
 "metadata": {
  "interpreter": {
   "hash": "6aac4413f09301d060b381b0559f8bf2da53dca8293528e45b1d947397cb201b"
  },
  "kernelspec": {
   "display_name": "Python 3.9.10 64-bit ('fantastic-amazon')",
   "language": "python",
   "name": "python3"
  },
  "language_info": {
   "codemirror_mode": {
    "name": "ipython",
    "version": 3
   },
   "file_extension": ".py",
   "mimetype": "text/x-python",
   "name": "python",
   "nbconvert_exporter": "python",
   "pygments_lexer": "ipython3",
   "version": "3.9.10"
  },
  "orig_nbformat": 4
 },
 "nbformat": 4,
 "nbformat_minor": 2
}
